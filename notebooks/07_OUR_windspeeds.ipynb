{
 "cells": [
  {
   "cell_type": "code",
   "execution_count": 1,
   "id": "520de941-d6c9-4888-9382-bdc18f787e0c",
   "metadata": {},
   "outputs": [],
   "source": [
    "import xarray as xr\n",
    "import glob"
   ]
  },
  {
   "cell_type": "code",
   "execution_count": 2,
   "id": "d43509ed-aea5-4eca-a67c-0c7d6c27269d",
   "metadata": {},
   "outputs": [],
   "source": [
    "data_path = \"../data/OUR/\""
   ]
  },
  {
   "cell_type": "code",
   "execution_count": 3,
   "id": "d6bdca2f-aaac-4a36-8d6d-32f44597f9d2",
   "metadata": {},
   "outputs": [],
   "source": [
    "experiment = \"EVAL\"\n",
    "year=1986"
   ]
  },
  {
   "cell_type": "code",
   "execution_count": 6,
   "id": "c7456172-c7db-4690-a77e-177f09ae5858",
   "metadata": {},
   "outputs": [],
   "source": [
    "ds_list = []\n",
    "for variable in [\"ua\", \"va\"]:\n",
    "    filename = glob.glob(data_path + experiment + \"/\" + variable + \"/*\" + str(year) + \"1231.nc\")[0]\n",
    "    ds_list.append(xr.open_dataset(filename))\n",
    "ds = xr.merge(ds_list)"
   ]
  },
  {
   "cell_type": "code",
   "execution_count": 8,
   "id": "50992e5a-9e72-4baa-a4b8-ec6b45143fe0",
   "metadata": {},
   "outputs": [],
   "source": [
    "ds[\"S\"] = (ds[\"ua\"]**2 + ds [\"va\"]**2)**(1./2)"
   ]
  },
  {
   "cell_type": "code",
   "execution_count": 9,
   "id": "5a064706-4bcf-4625-b028-69292b663b48",
   "metadata": {},
   "outputs": [],
   "source": [
    "ds = ds.drop([\"ua\", \"va\"])"
   ]
  },
  {
   "cell_type": "code",
   "execution_count": 12,
   "id": "216499a0-51c5-4b98-b845-9213007b38cd",
   "metadata": {},
   "outputs": [],
   "source": [
    "ds.to_netcdf(data_path + experiment + \"/S/\" + str(year) + \".nc\")"
   ]
  }
 ],
 "metadata": {
  "kernelspec": {
   "display_name": "Python [conda env:.conda-lucas_3dwinds]",
   "language": "python",
   "name": "conda-env-.conda-lucas_3dwinds-py"
  },
  "language_info": {
   "codemirror_mode": {
    "name": "ipython",
    "version": 3
   },
   "file_extension": ".py",
   "mimetype": "text/x-python",
   "name": "python",
   "nbconvert_exporter": "python",
   "pygments_lexer": "ipython3",
   "version": "3.9.15"
  }
 },
 "nbformat": 4,
 "nbformat_minor": 5
}
