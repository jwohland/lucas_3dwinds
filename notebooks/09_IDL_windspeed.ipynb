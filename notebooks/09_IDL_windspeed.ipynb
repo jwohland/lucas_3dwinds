{
 "cells": [
  {
   "cell_type": "code",
   "execution_count": 1,
   "id": "e79eccc1-c05f-497f-b6d2-9e319479c429",
   "metadata": {},
   "outputs": [
    {
     "name": "stdout",
     "output_type": "stream",
     "text": [
      "1986\n"
     ]
    }
   ],
   "source": [
    "import xarray as xr\n",
    "import glob\n",
    "\n",
    "EXPERIMENTS = [\"EVAL\", \"FOREST\", \"GRASS\"]\n",
    "\n",
    "data_path = \"../data/IDL/\"\n",
    "\n",
    "for year in range(1986, 2016):\n",
    "    print(year)\n",
    "    for experiment in EXPERIMENTS:\n",
    "        #open both wind components in one dataset\n",
    "        ds_list = []\n",
    "        for variable in [\"ua\", \"va\"]:\n",
    "            filename = glob.glob(\n",
    "                data_path + experiment + \"/\" + variable + \"/*\" + str(year) + \"123123.nc\"\n",
    "            )[0]\n",
    "            ds_list.append(xr.open_dataset(filename))\n",
    "        ds = xr.merge(ds_list)\n",
    "\n",
    "        # Compute wind speeds\n",
    "        ds[\"S\"] = (ds[\"ua\"] ** 2 + ds[\"va\"] ** 2) ** (1.0 / 2)\n",
    "\n",
    "        # Drop non-needed variables and save to file\n",
    "        ds = ds.drop([\"ua\", \"va\"])\n",
    "        ds.to_netcdf(data_path + experiment + \"/S/\" + str(year) + \".nc\")\n",
    "        break\n",
    "    break\n"
   ]
  }
 ],
 "metadata": {
  "kernelspec": {
   "display_name": "Python [conda env:.conda-lucas_3dwinds]",
   "language": "python",
   "name": "conda-env-.conda-lucas_3dwinds-py"
  },
  "language_info": {
   "codemirror_mode": {
    "name": "ipython",
    "version": 3
   },
   "file_extension": ".py",
   "mimetype": "text/x-python",
   "name": "python",
   "nbconvert_exporter": "python",
   "pygments_lexer": "ipython3",
   "version": "3.9.15"
  }
 },
 "nbformat": 4,
 "nbformat_minor": 5
}
