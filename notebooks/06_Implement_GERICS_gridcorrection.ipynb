{
 "cells": [
  {
   "cell_type": "code",
   "execution_count": null,
   "id": "5c55a9e3-e2de-4571-a927-430c8c42c76e",
   "metadata": {},
   "outputs": [],
   "source": [
    "import xarray as xr\n",
    "import numpy as np\n",
    "#from params import *\n",
    "\n",
    "data_path = \"../data/GERICS/\"\n",
    "\n",
    "# Variable overview\n",
    "# 2D\n",
    "#   Already fine (i.e., rlat, rlon) : PS, FIB\n",
    "# 3D\n",
    "#   Already fine (i.e., rlat, rlon, lev): T\n",
    "#   rlat, rlon, lev_2: FI\n",
    "#   rlat, rlon_2, lev: U\n",
    "#   rlat_2, rlon, lev: V\n",
    "\n",
    "\n",
    "######################\n",
    "# Interpolate FI to lev\n",
    "######################\n",
    "year = 1986\n",
    "experiment = \"EVAL\""
   ]
  },
  {
   "cell_type": "code",
   "execution_count": null,
   "id": "8ce74790-ae7d-4bb1-b76b-c92a674c249b",
   "metadata": {},
   "outputs": [],
   "source": [
    "ds = xr.open_dataset(data_path + experiment + \"/FI/FI_\" + str(year) + \".nc\")\n",
    "ds_ground = xr.open_dataset(data_path + experiment +  \"/FIB/FIB_\" + str(year) + \".nc\")  # Geopotential at surface"
   ]
  },
  {
   "cell_type": "code",
   "execution_count": null,
   "id": "44f053a1-3423-4a79-acb5-d688d2dd2486",
   "metadata": {},
   "outputs": [],
   "source": [
    "ds = ds.drop([\"hyai\", \"hybi\", \"hyam\", \"hybm\"])"
   ]
  },
  {
   "cell_type": "code",
   "execution_count": null,
   "id": "6be9d060-7fe5-4b3c-9f89-6c91885a4178",
   "metadata": {},
   "outputs": [],
   "source": [
    "ds_ground = ds_ground.assign_coords({\"lev_2\": 28.0}).rename({\"FIB\": \"FI\"})  # ground is lowermost level"
   ]
  },
  {
   "cell_type": "code",
   "execution_count": null,
   "id": "2dc2b0f2-a168-4177-b37a-e6a014908100",
   "metadata": {},
   "outputs": [],
   "source": [
    "#ds_ground.rename({\"FIB\": \"FI\"})"
   ]
  },
  {
   "cell_type": "code",
   "execution_count": null,
   "id": "a78ea0db-3efc-4073-a5d9-79308dbb2418",
   "metadata": {},
   "outputs": [],
   "source": [
    "ds_combined = xr.concat([ds, ds_ground], dim=\"lev_2\")"
   ]
  },
  {
   "cell_type": "code",
   "execution_count": null,
   "id": "84543d75-19ab-4e16-a062-5f530672e303",
   "metadata": {},
   "outputs": [],
   "source": [
    "ds_combined.rolling?"
   ]
  },
  {
   "cell_type": "code",
   "execution_count": null,
   "id": "19fb9610-47aa-475b-a23b-814e9353569d",
   "metadata": {},
   "outputs": [],
   "source": [
    "ds_combined = ds_combined.rolling({\"lev_2\":2}).mean().dropna(\"lev_2\").rename({\"lev_2\":\"lev\"})"
   ]
  },
  {
   "cell_type": "code",
   "execution_count": null,
   "id": "9cf634cc-8810-4db8-9824-5166620d7f0a",
   "metadata": {},
   "outputs": [],
   "source": [
    "ds_combined.lev"
   ]
  },
  {
   "cell_type": "code",
   "execution_count": null,
   "id": "29bf85f9-1c9f-40d5-9608-accb99407abc",
   "metadata": {},
   "outputs": [],
   "source": [
    "ds_combined = ds_combined.assign_coords({\"lev\":[float(x) for x in range(1,28)]})"
   ]
  },
  {
   "cell_type": "code",
   "execution_count": null,
   "id": "31989b2b-eb45-49cd-a8ab-db91d7ecee9d",
   "metadata": {},
   "outputs": [],
   "source": [
    "ds_combined.to_netcdf(\n",
    "    data_path + experiment + \"/FI_interpolated/FI_\" + str(year) + \".nc\"\n",
    ")"
   ]
  },
  {
   "cell_type": "markdown",
   "id": "d77a8d4e-71c9-46a2-ab1d-4a58a6a4b93f",
   "metadata": {},
   "source": [
    "### Wind speeds"
   ]
  },
  {
   "cell_type": "code",
   "execution_count": null,
   "id": "13848f21-59a6-49ab-8358-ba9ac7166d44",
   "metadata": {},
   "outputs": [],
   "source": [
    "year = 1986\n",
    "experiment = \"EVAL\"\n",
    "\n",
    "ds_u = xr.open_dataset(data_path + experiment + \"/U/U_\" + str(year) + \".nc\")\n",
    "ds_v = xr.open_dataset(data_path + experiment + \"/V/V_\" + str(year) + \".nc\")"
   ]
  },
  {
   "cell_type": "code",
   "execution_count": null,
   "id": "add2fe47-744a-46f3-9aaa-2a03c670e82a",
   "metadata": {},
   "outputs": [],
   "source": [
    "# u wind component at grid center is mean of u at its western and eastern margin\n",
    "ds_u = ds_u.rolling({\"rlon_2\": 2}).mean()\n",
    "ds_u = ds_u.rename({\"rlon_2\": \"rlon\"}).assign_coords({\"rlon\": ds_v.rlon})"
   ]
  },
  {
   "cell_type": "code",
   "execution_count": null,
   "id": "c47f2bd6-d7b2-4023-b3c1-6afcde067fa0",
   "metadata": {},
   "outputs": [],
   "source": [
    "# same for v with northern & southern margin\n",
    "ds_v = ds_v.rolling({\"rlat_2\": 2}).mean()\n",
    "ds_v = ds_v.rename({\"rlat_2\": \"rlat\"}).assign_coords({\"rlat\": ds_u.rlat})"
   ]
  },
  {
   "cell_type": "code",
   "execution_count": null,
   "id": "94140571-5011-4fd0-ac73-a9c4bf31062f",
   "metadata": {},
   "outputs": [],
   "source": [
    "# Compute wind speeds from components\n",
    "ds = xr.merge([ds_u, ds_v])"
   ]
  },
  {
   "cell_type": "code",
   "execution_count": null,
   "id": "331b9432-fa09-4494-854b-3bd2142d237a",
   "metadata": {},
   "outputs": [],
   "source": [
    "ds"
   ]
  },
  {
   "cell_type": "code",
   "execution_count": null,
   "id": "60d0d570-e597-4c08-a5ae-bca1d8751811",
   "metadata": {},
   "outputs": [],
   "source": [
    "ds[\"S\"] = (ds.U**2 + ds.V**2)**(1./2)"
   ]
  },
  {
   "cell_type": "code",
   "execution_count": null,
   "id": "c4b5222b-bb2f-4812-9997-46ede89849b0",
   "metadata": {},
   "outputs": [],
   "source": [
    "ds.S.attrs = {\"long_name\": \"Wind speed\", \"units\": \"m/s\", \"grid_mapping\": \"rotated_pole\"}"
   ]
  },
  {
   "cell_type": "code",
   "execution_count": null,
   "id": "f179aeb2-9f7d-4bea-acdd-d6143864dfb6",
   "metadata": {},
   "outputs": [],
   "source": [
    "ds.drop([\"U\", \"V\"]).to_netcdf(data_path + experiment + \"/S/S_\" + str(year) + \".nc\")"
   ]
  },
  {
   "cell_type": "code",
   "execution_count": null,
   "id": "8d79041e-62d1-405e-b095-5de60c4d603c",
   "metadata": {},
   "outputs": [],
   "source": []
  },
  {
   "cell_type": "code",
   "execution_count": null,
   "id": "6be2213b-a49f-4fe1-a415-a5748bc20c1a",
   "metadata": {},
   "outputs": [],
   "source": []
  }
 ],
 "metadata": {
  "kernelspec": {
   "display_name": "Python [conda env:.conda-lucas_3dwinds]",
   "language": "python",
   "name": "conda-env-.conda-lucas_3dwinds-py"
  },
  "language_info": {
   "codemirror_mode": {
    "name": "ipython",
    "version": 3
   },
   "file_extension": ".py",
   "mimetype": "text/x-python",
   "name": "python",
   "nbconvert_exporter": "python",
   "pygments_lexer": "ipython3",
   "version": "3.9.15"
  }
 },
 "nbformat": 4,
 "nbformat_minor": 5
}
