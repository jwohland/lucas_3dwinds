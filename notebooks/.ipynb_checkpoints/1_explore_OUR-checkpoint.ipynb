{
 "cells": [
  {
   "cell_type": "code",
   "execution_count": null,
   "id": "0bc0743c-1f9a-4be5-b013-663a6cb7020a",
   "metadata": {},
   "outputs": [],
   "source": []
  }
 ],
 "metadata": {
  "kernelspec": {
   "display_name": "cmip-processing",
   "language": "python",
   "name": "cmip-processing"
  },
  "language_info": {
   "name": ""
  }
 },
 "nbformat": 4,
 "nbformat_minor": 5
}
