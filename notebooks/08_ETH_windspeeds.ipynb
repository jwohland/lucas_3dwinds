{
 "cells": [
  {
   "cell_type": "code",
   "execution_count": 3,
   "id": "2d347ecd-5bc1-40c9-905a-09d6edfc2ed4",
   "metadata": {},
   "outputs": [
    {
     "name": "stdout",
     "output_type": "stream",
     "text": [
      "1986\n"
     ]
    }
   ],
   "source": [
    "# To be executed after preprocess.sh\n",
    "import xarray as xr\n",
    "EXPERIMENTS = [\"GRASS\", \"FOREST\", \"EVAL\"]\n",
    "\n",
    "data_path = \"../data/ETH/\"\n",
    "\n",
    "for year in range(1986, 2016):\n",
    "    print(year)\n",
    "    for experiment in EXPERIMENTS:\n",
    "        # Step1: Winds at pressure levels\n",
    "        # open both wind components in one dataset\n",
    "        ds_list = []\n",
    "        for variable in [\"U\", \"V\"]:\n",
    "            filename = (\n",
    "                data_path\n",
    "                + experiment\n",
    "                + \"/\"\n",
    "                + variable\n",
    "                + \"/\"\n",
    "                + variable\n",
    "                + \"_\"\n",
    "                + str(year)\n",
    "                + \".nc\"\n",
    "            )\n",
    "            ds_list.append(xr.open_dataset(filename))\n",
    "        ds = xr.merge(ds_list)\n",
    "\n",
    "        # Compute wind speeds\n",
    "        ds[\"S\"] = (ds[\"U\"] ** 2 + ds[\"V\"] ** 2) ** (1.0 / 2)\n",
    "\n",
    "        # Drop non-needed variables and save to file\n",
    "        ds = ds.drop([\"U\", \"V\"])\n",
    "        ds.to_netcdf(data_path + experiment + \"/S/\" + str(year) + \".nc\")\n",
    "\n",
    "        # Step2: Surface winds\n",
    "        ds_list = []\n",
    "        for variable in [\"U_10M\", \"V_10M\"]:\n",
    "            filename = (\n",
    "                data_path\n",
    "                + experiment\n",
    "                + \"/\"\n",
    "                + variable\n",
    "                + \"/\"\n",
    "                + variable\n",
    "                + \"_\"\n",
    "                + str(year)\n",
    "                + \".nc\"\n",
    "            )\n",
    "            ds_list.append(xr.open_dataset(filename))\n",
    "        ds = xr.merge(ds_list)\n",
    "\n",
    "        # Compute wind speeds\n",
    "        ds[\"S_10M\"] = (ds[\"U_10M\"] ** 2 + ds[\"V_10M\"] ** 2) ** (1.0 / 2)\n",
    "\n",
    "        # Drop non-needed variables and save to file\n",
    "        ds = ds.drop([\"U_10M\", \"V_10M\"])\n",
    "        ds.to_netcdf(data_path + experiment + \"/S_10M/\" + str(year) + \".nc\")\n",
    "        break\n",
    "    break\n"
   ]
  }
 ],
 "metadata": {
  "kernelspec": {
   "display_name": "Python [conda env:.conda-lucas_3dwinds]",
   "language": "python",
   "name": "conda-env-.conda-lucas_3dwinds-py"
  },
  "language_info": {
   "codemirror_mode": {
    "name": "ipython",
    "version": 3
   },
   "file_extension": ".py",
   "mimetype": "text/x-python",
   "name": "python",
   "nbconvert_exporter": "python",
   "pygments_lexer": "ipython3",
   "version": "3.9.15"
  }
 },
 "nbformat": 4,
 "nbformat_minor": 5
}
