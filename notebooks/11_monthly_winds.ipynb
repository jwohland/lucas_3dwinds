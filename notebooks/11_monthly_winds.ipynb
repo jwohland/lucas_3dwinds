{
 "cells": [
  {
   "cell_type": "code",
   "execution_count": 1,
   "id": "9048f9ce-608d-4c06-9078-4d0b97a4ff2c",
   "metadata": {},
   "outputs": [],
   "source": [
    "import xarray as xr\n",
    "import pandas as pd\n",
    "horizontal_ranges = {\n",
    "    \"rlons\": slice(-28.21, 17.99),\n",
    "    \"rlats\": slice(-23.21, 21.67)\n",
    "}"
   ]
  },
  {
   "cell_type": "code",
   "execution_count": null,
   "id": "c7cb6f37-a17b-413b-b391-f8b27c76f187",
   "metadata": {},
   "outputs": [],
   "source": [
    "# aggregate to monthly values,\n",
    "# use same lat lon coordinates\n",
    "# ?? include near surface winds even though they break the logic \n",
    "# (10M instead of pressure or model levels)"
   ]
  },
  {
   "cell_type": "code",
   "execution_count": 2,
   "id": "0a809e66-85ba-4b3f-852c-2f1af8325f59",
   "metadata": {},
   "outputs": [],
   "source": [
    "data_dir = \"../data/\"\n",
    "target_dir = \"../data/monthly/\""
   ]
  },
  {
   "cell_type": "code",
   "execution_count": 6,
   "id": "0d637494-b7a0-47b4-acd1-0dd60617987d",
   "metadata": {},
   "outputs": [
    {
     "name": "stdout",
     "output_type": "stream",
     "text": [
      "GERICS\n",
      "ETH\n",
      "IDL\n",
      "OUR\n"
     ]
    }
   ],
   "source": [
    "for experiment in [\"FOREST\", \"GRASS\"]:\n",
    "    for institution in [\"GERICS\", \"ETH\", \"IDL\", \"OUR\"]:\n",
    "        print(institution)\n",
    "        ds = xr.open_mfdataset(data_dir + institution + \"/\" + experiment + \"/S/*.nc\") \n",
    "        if institution == \"GERICS\":\n",
    "            # time index needs modification to be understood by xarray\n",
    "            ds[\"time\"] = pd.date_range(start=\"19860101.\", periods=ds.time.size, freq=\"6h\")\n",
    "        # Resample to monthly values\n",
    "        ds = ds.resample(time=\"1MS\").mean(dim=\"time\").compute()\n",
    "        # use same lat-lon coordinates\n",
    "        ds = ds.sel({\"rlat\": horizontal_ranges[\"rlats\"], \"rlon\": horizontal_ranges[\"rlons\"]})\n",
    "        ds.to_netcdf(target_dir + experiment + \"/S_\" + institution + \".nc\")"
   ]
  },
  {
   "cell_type": "code",
   "execution_count": 4,
   "id": "d0430a3d-e133-4f4a-a2dd-6441db438711",
   "metadata": {},
   "outputs": [
    {
     "name": "stdout",
     "output_type": "stream",
     "text": [
      "FOREST\n",
      "GRASS\n"
     ]
    }
   ],
   "source": [
    "for experiment in [\"FOREST\", \"GRASS\"]:\n",
    "    print(experiment)\n",
    "    # repeat for S_10 ETH\n",
    "    ds = xr.open_mfdataset(data_dir + \"ETH/\" + experiment + \"/S_10M/*.nc\")\n",
    "    # Resample to monthly values\n",
    "    ds = ds.resample(time=\"1MS\").mean(dim=\"time\").compute()\n",
    "    # use same lat-lon coordinates\n",
    "    ds = ds.sel({\"rlat\": horizontal_ranges[\"rlats\"], \"rlon\": horizontal_ranges[\"rlons\"]})\n",
    "    ds.to_netcdf(target_dir + experiment + \"/S10M_ETH.nc\")"
   ]
  }
 ],
 "metadata": {
  "kernelspec": {
   "display_name": "Python [conda env:.conda-lucas_3dwinds]",
   "language": "python",
   "name": "conda-env-.conda-lucas_3dwinds-py"
  },
  "language_info": {
   "codemirror_mode": {
    "name": "ipython",
    "version": 3
   },
   "file_extension": ".py",
   "mimetype": "text/x-python",
   "name": "python",
   "nbconvert_exporter": "python",
   "pygments_lexer": "ipython3",
   "version": "3.9.15"
  }
 },
 "nbformat": 4,
 "nbformat_minor": 5
}
